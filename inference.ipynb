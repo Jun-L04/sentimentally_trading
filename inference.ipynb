{
 "cells": [
  {
   "cell_type": "code",
   "execution_count": 1,
   "metadata": {},
   "outputs": [
    {
     "name": "stderr",
     "output_type": "stream",
     "text": [
      "c:\\Users\\junyanglu\\miniconda3\\envs\\llm\\Lib\\site-packages\\tqdm\\auto.py:21: TqdmWarning: IProgress not found. Please update jupyter and ipywidgets. See https://ipywidgets.readthedocs.io/en/stable/user_install.html\n",
      "  from .autonotebook import tqdm as notebook_tqdm\n"
     ]
    }
   ],
   "source": [
    "from transformers import AutoModelForSequenceClassification, AutoTokenizer\n",
    "import torch\n",
    "import pandas as pd\n",
    "import json\n",
    "from datetime import datetime\n",
    "from pandas.tseries.offsets import BDay"
   ]
  },
  {
   "cell_type": "code",
   "execution_count": 2,
   "metadata": {},
   "outputs": [
    {
     "name": "stderr",
     "output_type": "stream",
     "text": [
      "Some weights of OPTForSequenceClassification were not initialized from the model checkpoint at facebook/opt-2.7b and are newly initialized: ['score.weight']\n",
      "You should probably TRAIN this model on a down-stream task to be able to use it for predictions and inference.\n"
     ]
    }
   ],
   "source": [
    "# 1. loading fine tuned OPT and tokenizer\n",
    "model_path = \"./opt-finetuned\"  \n",
    "model = AutoModelForSequenceClassification.from_pretrained(model_path)\n",
    "tokenizer = AutoTokenizer.from_pretrained(model_path)"
   ]
  },
  {
   "cell_type": "code",
   "execution_count": 7,
   "metadata": {},
   "outputs": [],
   "source": [
    "# 2. the headline\n",
    "headline = \"Google, Meta face penalties for anti-competitive behaviour towards South African news media.\""
   ]
  },
  {
   "cell_type": "code",
   "execution_count": 8,
   "metadata": {},
   "outputs": [],
   "source": [
    "# 3. tokenize the headline\n",
    "inputs = tokenizer(\n",
    "    headline,\n",
    "    padding='max_length',\n",
    "    truncation=True,\n",
    "    max_length=128,\n",
    "    return_tensors=\"pt\"\n",
    ")"
   ]
  },
  {
   "cell_type": "code",
   "execution_count": 9,
   "metadata": {},
   "outputs": [],
   "source": [
    "# 4. eval_mode and then inference\n",
    "model.eval()\n",
    "with torch.no_grad():\n",
    "    outputs = model(**inputs)\n",
    "    logits = outputs.logits\n",
    "    probabilities = torch.softmax(logits, dim=1)\n",
    "    predicted_class = torch.argmax(probabilities).item()"
   ]
  },
  {
   "cell_type": "code",
   "execution_count": 10,
   "metadata": {},
   "outputs": [
    {
     "name": "stdout",
     "output_type": "stream",
     "text": [
      "Input: Google, Meta face penalties for anti-competitive behaviour towards South African news media.\n",
      "Predicted class: 1 (We Up)\n",
      "Class probabilities: [0.09504533559083939, 0.904954731464386]\n"
     ]
    }
   ],
   "source": [
    "# 5. Interpret results\n",
    "class_labels = {0: \"We Down\", 1: \"We Up\"}\n",
    "print(f\"Input: {headline}\")\n",
    "print(f\"Predicted class: {predicted_class} ({class_labels[predicted_class]})\")\n",
    "print(f\"Class probabilities: {probabilities.tolist()[0]}\")"
   ]
  },
  {
   "cell_type": "code",
   "execution_count": null,
   "metadata": {},
   "outputs": [],
   "source": [
    "def predict_movement(headline):\n",
    "    inputs = tokenizer(headline, return_tensors=\"pt\",\n",
    "                       padding=True, truncation=True)\n",
    "    outputs = model(**inputs)\n",
    "    probabilities = torch.nn.functional.softmax(outputs.logits, dim=-1)\n",
    "    predicted_class = torch.argmax(probabilities, dim=-1).item()\n",
    "    return predicted_class, probabilities"
   ]
  },
  {
   "cell_type": "code",
   "execution_count": null,
   "metadata": {},
   "outputs": [],
   "source": [
    "def long_short_strategy(headline):\n",
    "    predicted_class, _ = predict_movement(headline)\n",
    "\n",
    "    if predicted_class == 1:\n",
    "        print(\"Strategy: Go Long on the stock\")\n",
    "        # Implement your long strategy here\n",
    "    else:\n",
    "        print(\"Strategy: Go Short on the stock\")"
   ]
  },
  {
   "cell_type": "code",
   "execution_count": null,
   "metadata": {},
   "outputs": [],
   "source": [
    "# Function to implement the long-short strategy\n",
    "def long_short_strategy(headline, current_price, portfolio, position, shares):\n",
    "    predicted_class, _ = predict_movement(headline)\n",
    "\n",
    "    if predicted_class == 1:\n",
    "        print(\"Strategy: Go Long on the stock\")\n",
    "        if position == \"short\":\n",
    "            # Close short position\n",
    "            portfolio += shares * current_price\n",
    "            shares = 0\n",
    "            position = \"none\"\n",
    "        if position == \"none\":\n",
    "            # Open long position\n",
    "            amount_to_invest = min(0.2 * portfolio, portfolio)\n",
    "            shares = amount_to_invest // current_price\n",
    "            portfolio -= shares * current_price\n",
    "            position = \"long\"\n",
    "    else:\n",
    "        print(\"Strategy: Go Short on the stock\")\n",
    "        if position == \"long\":\n",
    "            # Close long position\n",
    "            portfolio += shares * current_price\n",
    "            shares = 0\n",
    "            position = \"none\"\n",
    "        if position == \"none\":\n",
    "            # Open short position\n",
    "            amount_to_invest = min(0.2 * portfolio, portfolio)\n",
    "            shares = amount_to_invest // current_price\n",
    "            portfolio += shares * current_price\n",
    "            position = \"short\"\n",
    "\n",
    "    return portfolio, position, shares\n",
    "\n",
    "\n",
    "# Load the stock returns data\n",
    "goog = pd.read_csv(\"stock_returns.csv\")\n",
    "\n",
    "# Load the news data\n",
    "with open(\"google_news.json\", \"r\") as json_file:\n",
    "    google_news = json.load(json_file)\n",
    "\n",
    "# Initialize portfolio\n",
    "portfolio = 10000\n",
    "position = \"none\"\n",
    "shares = 0\n",
    "\n",
    "# Iterate through the news data\n",
    "for news_item in google_news:\n",
    "    headline = news_item['headline']\n",
    "    news_date = news_item['datetime']\n",
    "\n",
    "    # Convert news_date to datetime object\n",
    "    news_date_dt = datetime.strptime(news_date, '%Y-%m-%d')\n",
    "\n",
    "    # Find the next business day for the opening price\n",
    "    next_business_day = news_date_dt\n",
    "    while next_business_day.strftime('%Y-%m-%d') not in goog['Date'].values:\n",
    "        next_business_day += BDay(1)\n",
    "    next_business_day_str = next_business_day.strftime('%Y-%m-%d')\n",
    "\n",
    "    # Get the opening price on the next business day\n",
    "    try:\n",
    "        current_price = goog.loc[goog['Date'] ==\n",
    "                                 next_business_day_str, 'Open'].values[0]\n",
    "    except IndexError:\n",
    "        # If the date is not found in the stock data, skip this news item\n",
    "        print(\n",
    "            f\"Skipping news item on {news_date} - opening price not found for {next_business_day_str}\")\n",
    "        continue\n",
    "\n",
    "    # Apply the long-short strategy\n",
    "    portfolio, position, shares = long_short_strategy(\n",
    "        headline, current_price, portfolio, position, shares)\n",
    "\n",
    "print(f\"Final portfolio value: {portfolio}\")"
   ]
  }
 ],
 "metadata": {
  "kernelspec": {
   "display_name": "llm",
   "language": "python",
   "name": "python3"
  },
  "language_info": {
   "codemirror_mode": {
    "name": "ipython",
    "version": 3
   },
   "file_extension": ".py",
   "mimetype": "text/x-python",
   "name": "python",
   "nbconvert_exporter": "python",
   "pygments_lexer": "ipython3",
   "version": "3.11.11"
  }
 },
 "nbformat": 4,
 "nbformat_minor": 2
}
