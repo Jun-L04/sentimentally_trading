{
 "cells": [
  {
   "cell_type": "code",
   "execution_count": 10,
   "metadata": {},
   "outputs": [
    {
     "name": "stderr",
     "output_type": "stream",
     "text": [
      "c:\\Users\\sanya\\AppData\\Local\\Programs\\Python\\Python311\\Lib\\site-packages\\tqdm\\auto.py:21: TqdmWarning: IProgress not found. Please update jupyter and ipywidgets. See https://ipywidgets.readthedocs.io/en/stable/user_install.html\n",
      "  from .autonotebook import tqdm as notebook_tqdm\n"
     ]
    }
   ],
   "source": [
    "import torch\n",
    "import finnhub\n",
    "import json\n",
    "from datetime import datetime\n",
    "import os\n",
    "import string\n",
    "import nltk\n",
    "from sklearn.feature_extraction.text import TfidfVectorizer\n",
    "from sklearn.metrics.pairwise import cosine_similarity\n",
    "from dotenv import load_dotenv\n",
    "from transformers import pipeline\n",
    "import yfinance as yf\n",
    "import pandas as pd"
   ]
  },
  {
   "cell_type": "code",
   "execution_count": 12,
   "metadata": {},
   "outputs": [
    {
     "name": "stderr",
     "output_type": "stream",
     "text": [
      "Device set to use cpu\n"
     ]
    }
   ],
   "source": [
    "generator = pipeline('text-generation', model=\"facebook/opt-2.7b\")\n",
    "#generator(\"What is Google?\")"
   ]
  },
  {
   "cell_type": "code",
   "execution_count": 13,
   "metadata": {},
   "outputs": [],
   "source": [
    "# load env variables\n",
    "load_dotenv()\n",
    "\n",
    "finnhub_api = os.getenv(\"FINNHUB_API\")\n",
    "finnhub_client = finnhub.Client(api_key=finnhub_api)"
   ]
  },
  {
   "cell_type": "code",
   "execution_count": 14,
   "metadata": {},
   "outputs": [],
   "source": [
    "if os.path.exists(\"google_news.json\"):\n",
    "    os.remove(\"google_news.json\")"
   ]
  },
  {
   "cell_type": "code",
   "execution_count": 17,
   "metadata": {},
   "outputs": [],
   "source": [
    "def preprocess_corpus(text):\n",
    "    text = text.lower()\n",
    "    text = text.translate(str.maketrans('', '', string.punctuation))\n",
    "    return text\n",
    "\n",
    "def filter_headlines(news_items, keyword=\"google\"):\n",
    "    return [item for item in news_items if keyword in item['headline']]\n",
    "\n",
    "def cosine_similarity_filteration(news_items, threshold=0.8):\n",
    "    headlines = [item['headline'] for item in news_items]\n",
    "    vectorizer = TfidfVectorizer().fit_transform(headlines)\n",
    "    vectors = vectorizer.toarray()\n",
    "    cosine_matrix = cosine_similarity(vectors)\n",
    "    \n",
    "    unique_news_items = []\n",
    "    for i in range(len(news_items)):\n",
    "        is_unique = True\n",
    "        for j in range(i):\n",
    "            if cosine_matrix[i][j] > threshold:\n",
    "                is_unique = False\n",
    "                break\n",
    "        if is_unique:\n",
    "            unique_news_items.append(news_items[i])\n",
    "    \n",
    "    return unique_news_items"
   ]
  },
  {
   "cell_type": "code",
   "execution_count": null,
   "metadata": {},
   "outputs": [
    {
     "ename": "FinnhubAPIException",
     "evalue": "FinnhubAPIException(status_code: 401): Please use an API key.",
     "output_type": "error",
     "traceback": [
      "\u001b[1;31m---------------------------------------------------------------------------\u001b[0m",
      "\u001b[1;31mFinnhubAPIException\u001b[0m                       Traceback (most recent call last)",
      "Cell \u001b[1;32mIn[19], line 21\u001b[0m\n\u001b[0;32m      8\u001b[0m date_dict \u001b[38;5;241m=\u001b[39m {\n\u001b[0;32m      9\u001b[0m     \u001b[38;5;66;03m# \"2024-01-01\": \"2024-01-31\",\u001b[39;00m\n\u001b[0;32m     10\u001b[0m     \u001b[38;5;66;03m# \"2024-02-01\": \"2024-02-28\",\u001b[39;00m\n\u001b[1;32m   (...)\u001b[0m\n\u001b[0;32m     16\u001b[0m     \u001b[38;5;124m\"\u001b[39m\u001b[38;5;124m2024-08-01\u001b[39m\u001b[38;5;124m\"\u001b[39m: \u001b[38;5;124m\"\u001b[39m\u001b[38;5;124m2024-08-31\u001b[39m\u001b[38;5;124m\"\u001b[39m,\n\u001b[0;32m     17\u001b[0m }\n\u001b[0;32m     20\u001b[0m \u001b[38;5;28;01mfor\u001b[39;00m sd, ed \u001b[38;5;129;01min\u001b[39;00m date_dict\u001b[38;5;241m.\u001b[39mitems():\n\u001b[1;32m---> 21\u001b[0m     google_news \u001b[38;5;241m=\u001b[39m \u001b[43mfinnhub_client\u001b[49m\u001b[38;5;241;43m.\u001b[39;49m\u001b[43mcompany_news\u001b[49m\u001b[43m(\u001b[49m\u001b[38;5;124;43m'\u001b[39;49m\u001b[38;5;124;43mAAPL\u001b[39;49m\u001b[38;5;124;43m'\u001b[39;49m\u001b[43m,\u001b[49m\u001b[43m \u001b[49m\u001b[43m_from\u001b[49m\u001b[38;5;241;43m=\u001b[39;49m\u001b[43msd\u001b[49m\u001b[43m,\u001b[49m\u001b[43m \u001b[49m\u001b[43mto\u001b[49m\u001b[38;5;241;43m=\u001b[39;49m\u001b[43med\u001b[49m\u001b[43m)\u001b[49m\n\u001b[0;32m     23\u001b[0m     \u001b[38;5;28;01mfor\u001b[39;00m news_item \u001b[38;5;129;01min\u001b[39;00m google_news:\n\u001b[0;32m     24\u001b[0m         \u001b[38;5;66;03m# Convert unix time to Year-month-day\u001b[39;00m\n\u001b[0;32m     25\u001b[0m         news_item[\u001b[38;5;124m'\u001b[39m\u001b[38;5;124mdatetime\u001b[39m\u001b[38;5;124m'\u001b[39m] \u001b[38;5;241m=\u001b[39m datetime\u001b[38;5;241m.\u001b[39mutcfromtimestamp(news_item[\u001b[38;5;124m'\u001b[39m\u001b[38;5;124mdatetime\u001b[39m\u001b[38;5;124m'\u001b[39m])\u001b[38;5;241m.\u001b[39mstrftime(\u001b[38;5;124m'\u001b[39m\u001b[38;5;124m%\u001b[39m\u001b[38;5;124mY-\u001b[39m\u001b[38;5;124m%\u001b[39m\u001b[38;5;124mm-\u001b[39m\u001b[38;5;132;01m%d\u001b[39;00m\u001b[38;5;124m'\u001b[39m)\n",
      "File \u001b[1;32mc:\\Users\\sanya\\AppData\\Local\\Programs\\Python\\Python311\\Lib\\site-packages\\finnhub\\client.py:317\u001b[0m, in \u001b[0;36mClient.company_news\u001b[1;34m(self, symbol, _from, to)\u001b[0m\n\u001b[0;32m    316\u001b[0m \u001b[38;5;28;01mdef\u001b[39;00m\u001b[38;5;250m \u001b[39m\u001b[38;5;21mcompany_news\u001b[39m(\u001b[38;5;28mself\u001b[39m, symbol, _from, to):\n\u001b[1;32m--> 317\u001b[0m     \u001b[38;5;28;01mreturn\u001b[39;00m \u001b[38;5;28;43mself\u001b[39;49m\u001b[38;5;241;43m.\u001b[39;49m\u001b[43m_get\u001b[49m\u001b[43m(\u001b[49m\u001b[38;5;124;43m\"\u001b[39;49m\u001b[38;5;124;43m/company-news\u001b[39;49m\u001b[38;5;124;43m\"\u001b[39;49m\u001b[43m,\u001b[49m\u001b[43m \u001b[49m\u001b[43mparams\u001b[49m\u001b[38;5;241;43m=\u001b[39;49m\u001b[43m{\u001b[49m\n\u001b[0;32m    318\u001b[0m \u001b[43m        \u001b[49m\u001b[38;5;124;43m\"\u001b[39;49m\u001b[38;5;124;43msymbol\u001b[39;49m\u001b[38;5;124;43m\"\u001b[39;49m\u001b[43m:\u001b[49m\u001b[43m \u001b[49m\u001b[43msymbol\u001b[49m\u001b[43m,\u001b[49m\n\u001b[0;32m    319\u001b[0m \u001b[43m        \u001b[49m\u001b[38;5;124;43m\"\u001b[39;49m\u001b[38;5;124;43mfrom\u001b[39;49m\u001b[38;5;124;43m\"\u001b[39;49m\u001b[43m:\u001b[49m\u001b[43m \u001b[49m\u001b[43m_from\u001b[49m\u001b[43m,\u001b[49m\n\u001b[0;32m    320\u001b[0m \u001b[43m        \u001b[49m\u001b[38;5;124;43m\"\u001b[39;49m\u001b[38;5;124;43mto\u001b[39;49m\u001b[38;5;124;43m\"\u001b[39;49m\u001b[43m:\u001b[49m\u001b[43m \u001b[49m\u001b[43mto\u001b[49m\n\u001b[0;32m    321\u001b[0m \u001b[43m    \u001b[49m\u001b[43m}\u001b[49m\u001b[43m)\u001b[49m\n",
      "File \u001b[1;32mc:\\Users\\sanya\\AppData\\Local\\Programs\\Python\\Python311\\Lib\\site-packages\\finnhub\\client.py:71\u001b[0m, in \u001b[0;36mClient._get\u001b[1;34m(self, path, **kwargs)\u001b[0m\n\u001b[0;32m     70\u001b[0m \u001b[38;5;28;01mdef\u001b[39;00m\u001b[38;5;250m \u001b[39m\u001b[38;5;21m_get\u001b[39m(\u001b[38;5;28mself\u001b[39m, path, \u001b[38;5;241m*\u001b[39m\u001b[38;5;241m*\u001b[39mkwargs):\n\u001b[1;32m---> 71\u001b[0m     \u001b[38;5;28;01mreturn\u001b[39;00m \u001b[38;5;28;43mself\u001b[39;49m\u001b[38;5;241;43m.\u001b[39;49m\u001b[43m_request\u001b[49m\u001b[43m(\u001b[49m\u001b[38;5;124;43m\"\u001b[39;49m\u001b[38;5;124;43mget\u001b[39;49m\u001b[38;5;124;43m\"\u001b[39;49m\u001b[43m,\u001b[49m\u001b[43m \u001b[49m\u001b[43mpath\u001b[49m\u001b[43m,\u001b[49m\u001b[43m \u001b[49m\u001b[38;5;241;43m*\u001b[39;49m\u001b[38;5;241;43m*\u001b[39;49m\u001b[43mkwargs\u001b[49m\u001b[43m)\u001b[49m\n",
      "File \u001b[1;32mc:\\Users\\sanya\\AppData\\Local\\Programs\\Python\\Python311\\Lib\\site-packages\\finnhub\\client.py:41\u001b[0m, in \u001b[0;36mClient._request\u001b[1;34m(self, method, path, **kwargs)\u001b[0m\n\u001b[0;32m     38\u001b[0m kwargs[\u001b[38;5;124m\"\u001b[39m\u001b[38;5;124mparams\u001b[39m\u001b[38;5;124m\"\u001b[39m] \u001b[38;5;241m=\u001b[39m \u001b[38;5;28mself\u001b[39m\u001b[38;5;241m.\u001b[39m_format_params(kwargs\u001b[38;5;241m.\u001b[39mget(\u001b[38;5;124m\"\u001b[39m\u001b[38;5;124mparams\u001b[39m\u001b[38;5;124m\"\u001b[39m, {}))\n\u001b[0;32m     40\u001b[0m response \u001b[38;5;241m=\u001b[39m \u001b[38;5;28mgetattr\u001b[39m(\u001b[38;5;28mself\u001b[39m\u001b[38;5;241m.\u001b[39m_session, method)(uri, \u001b[38;5;241m*\u001b[39m\u001b[38;5;241m*\u001b[39mkwargs)\n\u001b[1;32m---> 41\u001b[0m \u001b[38;5;28;01mreturn\u001b[39;00m \u001b[38;5;28;43mself\u001b[39;49m\u001b[38;5;241;43m.\u001b[39;49m\u001b[43m_handle_response\u001b[49m\u001b[43m(\u001b[49m\u001b[43mresponse\u001b[49m\u001b[43m)\u001b[49m\n",
      "File \u001b[1;32mc:\\Users\\sanya\\AppData\\Local\\Programs\\Python\\Python311\\Lib\\site-packages\\finnhub\\client.py:46\u001b[0m, in \u001b[0;36mClient._handle_response\u001b[1;34m(response)\u001b[0m\n\u001b[0;32m     43\u001b[0m \u001b[38;5;129m@staticmethod\u001b[39m\n\u001b[0;32m     44\u001b[0m \u001b[38;5;28;01mdef\u001b[39;00m\u001b[38;5;250m \u001b[39m\u001b[38;5;21m_handle_response\u001b[39m(response):\n\u001b[0;32m     45\u001b[0m     \u001b[38;5;28;01mif\u001b[39;00m \u001b[38;5;129;01mnot\u001b[39;00m response\u001b[38;5;241m.\u001b[39mok:\n\u001b[1;32m---> 46\u001b[0m         \u001b[38;5;28;01mraise\u001b[39;00m FinnhubAPIException(response)\n\u001b[0;32m     48\u001b[0m     \u001b[38;5;28;01mtry\u001b[39;00m:\n\u001b[0;32m     49\u001b[0m         content_type \u001b[38;5;241m=\u001b[39m response\u001b[38;5;241m.\u001b[39mheaders\u001b[38;5;241m.\u001b[39mget(\u001b[38;5;124m'\u001b[39m\u001b[38;5;124mContent-Type\u001b[39m\u001b[38;5;124m'\u001b[39m, \u001b[38;5;124m'\u001b[39m\u001b[38;5;124m'\u001b[39m)\n",
      "\u001b[1;31mFinnhubAPIException\u001b[0m: FinnhubAPIException(status_code: 401): Please use an API key."
     ]
    }
   ],
   "source": [
    "# Check if the JSON file exists and read its content if it does\n",
    "if os.path.exists(\"google_news.json\"):\n",
    "    with open(\"google_news.json\", \"r\") as json_file:\n",
    "        all_news = json.load(json_file)\n",
    "else:\n",
    "    all_news = []\n",
    "\n",
    "date_dict = {\n",
    "    # \"2024-01-01\": \"2024-01-31\",\n",
    "    # \"2024-02-01\": \"2024-02-28\",\n",
    "    \"2024-03-01\": \"2024-03-31\",\n",
    "    \"2024-04-01\": \"2024-04-30\",\n",
    "    \"2024-05-01\": \"2024-05-31\",\n",
    "    \"2024-06-01\": \"2024-06-30\",\n",
    "    \"2024-07-01\": \"2024-07-31\",\n",
    "    \"2024-08-01\": \"2024-08-31\",\n",
    "}\n",
    "\n",
    "\n",
    "for sd, ed in date_dict.items():\n",
    "    google_news = finnhub_client.company_news('GOOG', _from=sd, to=ed)\n",
    "\n",
    "    for news_item in google_news:\n",
    "        # Convert unix time to Year-month-day\n",
    "        news_item['datetime'] = datetime.utcfromtimestamp(news_item['datetime']).strftime('%Y-%m-%d')\n",
    "        # Preprocess the headline\n",
    "        news_item['headline'] = preprocess_corpus(news_item['headline'])\n",
    "\n",
    "    # Filter headlines containing the keyword \"google\"\n",
    "    google_news = filter_headlines(google_news)\n",
    "\n",
    "    # Apply cosine similarity filtering\n",
    "    google_news = cosine_similarity_filteration(google_news)\n",
    "\n",
    "    all_news.extend(google_news)\n",
    "\n",
    "# Write all news items to the JSON file\n",
    "with open(\"google_news.json\", \"w\") as json_file:\n",
    "    json.dump(all_news, json_file, indent=4)\n",
    "\n",
    "print(f\"# of news headlines: {len(all_news)}\")"
   ]
  },
  {
   "cell_type": "code",
   "execution_count": 40,
   "metadata": {},
   "outputs": [
    {
     "name": "stderr",
     "output_type": "stream",
     "text": [
      "[*********************100%***********************]  1 of 1 completed"
     ]
    },
    {
     "name": "stdout",
     "output_type": "stream",
     "text": [
      "Price            Close        High         Low        Open    Volume  \\\n",
      "Ticker            GOOG        GOOG        GOOG        GOOG      GOOG   \n",
      "Date                                                                   \n",
      "2024-09-03  158.221985  162.980320  157.468827  162.915477  26533100   \n",
      "2024-09-04  157.423935  160.007595  157.054845  157.688286  17410700   \n",
      "2024-09-05  158.212006  160.621091  157.134646  157.394004  14139500   \n",
      "2024-09-06  151.757843  158.830495  151.563313  158.301793  24999100   \n",
      "2024-09-09  149.370529  154.464756  148.032051  153.455906  28057700   \n",
      "\n",
      "Price      Daily Return Excess Return 3-Day Excess Return  \n",
      "Ticker                                                     \n",
      "Date                                                       \n",
      "2024-09-03    -0.039368     -0.040773           -0.039806  \n",
      "2024-09-04    -0.005044     -0.006449           -0.038163  \n",
      "2024-09-05     0.005006      0.003601           -0.043622  \n",
      "2024-09-06    -0.040794     -0.042200           -0.045048  \n",
      "2024-09-09    -0.015731     -0.017136           -0.055736  \n"
     ]
    },
    {
     "name": "stderr",
     "output_type": "stream",
     "text": [
      "\n"
     ]
    }
   ],
   "source": [
    "# Fetch stock data using yfinance\n",
    "symbol = 'GOOG'\n",
    "start_date = '2024-01-01'\n",
    "end_date = '2025-01-01'\n",
    "stock_data = yf.download(symbol, start=start_date, end=end_date)\n",
    "\n",
    "stock_data['Daily Return'] = stock_data['Close'].pct_change()\n",
    "stock_data['Excess Return'] = stock_data['Daily Return'] - stock_data['Daily Return'].mean()\n",
    "stock_data['3-Day Excess Return'] = stock_data['Excess Return'].rolling(window=3).sum()\n",
    "stock_data = stock_data.dropna()\n",
    "\n",
    "stock_data_train = stock_data['2024-01-01':'2024-09-01']\n",
    "stock_data_test = stock_data['2024-09-01':'2025-01-01']\n",
    "\n",
    "stock_data_train.to_csv('stock_returns_training.csv')\n",
    "stock_data_test.to_csv('stock_returns.csv')\n",
    "\n",
    "print(stock_data_test.head())"
   ]
  }
 ],
 "metadata": {
  "kernelspec": {
   "display_name": "Python 3",
   "language": "python",
   "name": "python3"
  },
  "language_info": {
   "codemirror_mode": {
    "name": "ipython",
    "version": 3
   },
   "file_extension": ".py",
   "mimetype": "text/x-python",
   "name": "python",
   "nbconvert_exporter": "python",
   "pygments_lexer": "ipython3",
   "version": "3.11.0"
  }
 },
 "nbformat": 4,
 "nbformat_minor": 2
}
