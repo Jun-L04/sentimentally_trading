{
 "cells": [
  {
   "cell_type": "code",
   "execution_count": 1,
   "metadata": {},
   "outputs": [],
   "source": [
    "import torch"
   ]
  },
  {
   "cell_type": "code",
   "execution_count": 2,
   "metadata": {},
   "outputs": [
    {
     "data": {
      "text/plain": [
       "[{'generated_text': 'What is Google?\\n\\nGoogle is a search engine that allows you to search the web.'}]"
      ]
     },
     "execution_count": 2,
     "metadata": {},
     "output_type": "execute_result"
    }
   ],
   "source": [
    "from transformers import pipeline\n",
    "\n",
    "generator = pipeline('text-generation', model=\"facebook/opt-2.7b\")\n",
    "generator(\"What is Google?\")"
   ]
  },
  {
   "cell_type": "code",
   "execution_count": null,
   "metadata": {},
   "outputs": [],
   "source": [
    "# load env variables\n",
    "from dotenv import load_dotenv\n",
    "import os\n",
    "\n",
    "load_dotenv()\n",
    "\n",
    "finnhub_api = os.getenv(\"FINNHUB_API\")"
   ]
  },
  {
   "cell_type": "code",
   "execution_count": null,
   "metadata": {},
   "outputs": [
    {
     "name": "stdout",
     "output_type": "stream",
     "text": [
      "245\n"
     ]
    }
   ],
   "source": [
    "import finnhub\n",
    "import json\n",
    "from datetime import datetime\n",
    "\n",
    "finnhub_client = finnhub.Client(api_key=finnhub_api)\n",
    "\n",
    "google_news = finnhub_client.company_news('GOOG', _from=\"2024-01-01\", to=\"2024-12-31\")\n",
    "\n",
    "print(len(google_news))"
   ]
  },
  {
   "cell_type": "code",
   "execution_count": 5,
   "metadata": {},
   "outputs": [],
   "source": [
    "import string\n",
    "import nltk\n",
    "from sklearn.feature_extraction.text import TfidfVectorizer\n",
    "from sklearn.metrics.pairwise import cosine_similarity\n",
    "\n",
    "\n",
    "def preprocess_corpus(text):\n",
    "    text = text.lower()\n",
    "    text = text.translate(str.maketrans('', '', string.punctuation))\n",
    "    return text\n",
    "\n",
    "for news_item in google_news:\n",
    "    news_item['headline'] = preprocess_corpus(news_item['headline'])\n",
    "    # unix time to Year-month-day\n",
    "    news_item['datetime'] = datetime.utcfromtimestamp(news_item['datetime']).strftime('%Y-%m-%d')\n",
    "\n",
    "# cosine similarity filtering\n",
    "def cosine_similarity_fileration(news_items, threshold=0.5):\n",
    "    headlines = [item['headline'] for item in news_items]\n",
    "    vectorizer = TfidfVectorizer().fit_transform(headlines)\n",
    "    vectors = vectorizer.toarray()\n",
    "    cosine_matrix = cosine_similarity(vectors)\n",
    "    \n",
    "    unique_news_items = []\n",
    "    for i in range(len(news_items)):\n",
    "        is_unique = True\n",
    "        for j in range(i):\n",
    "            if cosine_matrix[i][j] > threshold:\n",
    "                is_unique = False\n",
    "                break\n",
    "        if is_unique:\n",
    "            unique_news_items.append(news_items[i])\n",
    "    \n",
    "    return unique_news_items"
   ]
  },
  {
   "cell_type": "code",
   "execution_count": 6,
   "metadata": {},
   "outputs": [
    {
     "name": "stdout",
     "output_type": "stream",
     "text": [
      "221\n"
     ]
    }
   ],
   "source": [
    "google_news = cosine_similarity_fileration(google_news)\n",
    "print(len(google_news))"
   ]
  },
  {
   "cell_type": "code",
   "execution_count": 7,
   "metadata": {},
   "outputs": [],
   "source": [
    "# dump into json\n",
    "with open(\"google_news.json\", \"w\") as json_file:\n",
    "    json.dump(google_news, json_file, indent=4)"
   ]
  }
 ],
 "metadata": {
  "kernelspec": {
   "display_name": "llm",
   "language": "python",
   "name": "python3"
  },
  "language_info": {
   "codemirror_mode": {
    "name": "ipython",
    "version": 3
   },
   "file_extension": ".py",
   "mimetype": "text/x-python",
   "name": "python",
   "nbconvert_exporter": "python",
   "pygments_lexer": "ipython3",
   "version": "3.11.10"
  }
 },
 "nbformat": 4,
 "nbformat_minor": 2
}
