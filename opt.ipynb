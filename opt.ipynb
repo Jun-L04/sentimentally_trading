{
 "cells": [
  {
   "cell_type": "code",
   "execution_count": null,
   "metadata": {},
   "outputs": [],
   "source": [
    "import torch\n",
    "import finnhub\n",
    "import json\n",
    "from datetime import datetime\n",
    "import os\n",
    "import string\n",
    "import nltk\n",
    "from sklearn.feature_extraction.text import TfidfVectorizer\n",
    "from sklearn.metrics.pairwise import cosine_similarity\n",
    "from dotenv import load_dotenv\n",
    "from transformers import pipeline"
   ]
  },
  {
   "cell_type": "code",
   "execution_count": null,
   "metadata": {},
   "outputs": [
    {
     "data": {
      "text/plain": [
       "[{'generated_text': 'What is Google?\\n\\nGoogle is a search engine that allows you to search the web.'}]"
      ]
     },
     "execution_count": 2,
     "metadata": {},
     "output_type": "execute_result"
    }
   ],
   "source": [
    "generator = pipeline('text-generation', model=\"facebook/opt-2.7b\")\n",
    "#generator(\"What is Google?\")"
   ]
  },
  {
   "cell_type": "code",
   "execution_count": null,
   "metadata": {},
   "outputs": [],
   "source": [
    "# load env variables\n",
    "load_dotenv()\n",
    "\n",
    "finnhub_api = os.getenv(\"FINNHUB_API\")\n",
    "finnhub_client = finnhub.Client(api_key=finnhub_api)"
   ]
  },
  {
   "cell_type": "code",
   "execution_count": 12,
   "metadata": {},
   "outputs": [],
   "source": [
    "if os.path.exists(\"google_news.json\"):\n",
    "    os.remove(\"google_news.json\")"
   ]
  },
  {
   "cell_type": "code",
   "execution_count": null,
   "metadata": {},
   "outputs": [],
   "source": [
    "def preprocess_corpus(text):\n",
    "    text = text.lower()\n",
    "    text = text.translate(str.maketrans('', '', string.punctuation))\n",
    "    return text\n",
    "\n",
    "def filter_headlines(news_items, keyword=\"google\"):\n",
    "    return [item for item in news_items if keyword in item['headline']]\n",
    "\n",
    "def cosine_similarity_filteration(news_items, threshold=0.8):\n",
    "    headlines = [item['headline'] for item in news_items]\n",
    "    vectorizer = TfidfVectorizer().fit_transform(headlines)\n",
    "    vectors = vectorizer.toarray()\n",
    "    cosine_matrix = cosine_similarity(vectors)\n",
    "    \n",
    "    unique_news_items = []\n",
    "    for i in range(len(news_items)):\n",
    "        is_unique = True\n",
    "        for j in range(i):\n",
    "            if cosine_matrix[i][j] > threshold:\n",
    "                is_unique = False\n",
    "                break\n",
    "        if is_unique:\n",
    "            unique_news_items.append(news_items[i])\n",
    "    \n",
    "    return unique_news_items"
   ]
  },
  {
   "cell_type": "code",
   "execution_count": null,
   "metadata": {},
   "outputs": [
    {
     "name": "stdout",
     "output_type": "stream",
     "text": [
      "Total news items collected: 276\n"
     ]
    }
   ],
   "source": [
    "# Check if the JSON file exists and read its content if it does\n",
    "if os.path.exists(\"google_news.json\"):\n",
    "    with open(\"google_news.json\", \"r\") as json_file:\n",
    "        all_news = json.load(json_file)\n",
    "else:\n",
    "    all_news = []\n",
    "\n",
    "date_dict = {\n",
    "    # \"2024-01-01\": \"2024-01-31\",\n",
    "    # \"2024-02-01\": \"2024-02-28\",\n",
    "    \"2024-03-01\": \"2024-03-31\",\n",
    "    \"2024-04-01\": \"2024-04-30\",\n",
    "    \"2024-05-01\": \"2024-05-31\",\n",
    "    \"2024-06-01\": \"2024-06-30\",\n",
    "    \"2024-07-01\": \"2024-07-31\",\n",
    "    \"2024-08-01\": \"2024-08-31\",\n",
    "}\n",
    "\n",
    "\n",
    "for sd, ed in date_dict.items():\n",
    "    google_news = finnhub_client.company_news('GOOG', _from=sd, to=ed)\n",
    "\n",
    "    for news_item in google_news:\n",
    "        # Convert unix time to Year-month-day\n",
    "        news_item['datetime'] = datetime.utcfromtimestamp(news_item['datetime']).strftime('%Y-%m-%d')\n",
    "        # Preprocess the headline\n",
    "        news_item['headline'] = preprocess_corpus(news_item['headline'])\n",
    "\n",
    "    # Filter headlines containing the keyword \"google\"\n",
    "    google_news = filter_headlines(google_news)\n",
    "\n",
    "    # Apply cosine similarity filtering\n",
    "    google_news = cosine_similarity_filteration(google_news)\n",
    "\n",
    "    all_news.extend(google_news)\n",
    "\n",
    "# Write all news items to the JSON file\n",
    "with open(\"google_news.json\", \"w\") as json_file:\n",
    "    json.dump(all_news, json_file, indent=4)\n",
    "\n",
    "print(f\"# of news headlines: {len(all_news)}\")"
   ]
  }
 ],
 "metadata": {
  "kernelspec": {
   "display_name": "llm",
   "language": "python",
   "name": "python3"
  },
  "language_info": {
   "codemirror_mode": {
    "name": "ipython",
    "version": 3
   },
   "file_extension": ".py",
   "mimetype": "text/x-python",
   "name": "python",
   "nbconvert_exporter": "python",
   "pygments_lexer": "ipython3",
   "version": "3.11.10"
  }
 },
 "nbformat": 4,
 "nbformat_minor": 2
}
